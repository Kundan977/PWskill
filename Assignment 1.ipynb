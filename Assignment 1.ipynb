{
 "cells": [
  {
   "cell_type": "code",
   "execution_count": 1,
   "id": "65dcf862",
   "metadata": {},
   "outputs": [
    {
     "data": {
      "text/plain": [
       "[8.45, 'Kundan', [1, 2, 3, (2+7j)], (78, 4, 5, 7)]"
      ]
     },
     "execution_count": 1,
     "metadata": {},
     "output_type": "execute_result"
    }
   ],
   "source": [
    "#Q1. Create one variable containing following type of data:\n",
    "\n",
    "#(i) string\n",
    "#(ii) list\n",
    "#(iii) float\n",
    "#(iv) tuple\n",
    "b=[8.45, 'Kundan', [1,2,3,2+7j], (78, 4,5, 7)]\n",
    "b"
   ]
  },
  {
   "cell_type": "code",
   "execution_count": 2,
   "id": "a1b334bd",
   "metadata": {},
   "outputs": [
    {
     "data": {
      "text/plain": [
       "str"
      ]
     },
     "execution_count": 2,
     "metadata": {},
     "output_type": "execute_result"
    }
   ],
   "source": [
    "#Q2. Given are some following variables containing data:\n",
    "#(i) var1 = ‘ ‘\n",
    "#(ii) var2 = ‘[ DS , ML , Python]’\n",
    "#(iii) var3 = [ ‘DS’ , ’ML’ , ‘Python’ ]\n",
    "#(iv) var4 = 1.\n",
    "\n",
    "var2 = '[ DS , ML , Python]'\n",
    "type(var2)"
   ]
  },
  {
   "cell_type": "code",
   "execution_count": 3,
   "id": "e4313e8b",
   "metadata": {},
   "outputs": [
    {
     "data": {
      "text/plain": [
       "str"
      ]
     },
     "execution_count": 3,
     "metadata": {},
     "output_type": "execute_result"
    }
   ],
   "source": [
    "var1 =''\n",
    "type(var1)"
   ]
  },
  {
   "cell_type": "code",
   "execution_count": 4,
   "id": "a30ad3a2",
   "metadata": {},
   "outputs": [
    {
     "data": {
      "text/plain": [
       "list"
      ]
     },
     "execution_count": 4,
     "metadata": {},
     "output_type": "execute_result"
    }
   ],
   "source": [
    "var3 = ['DS','ML','Python']\n",
    "type(var3)"
   ]
  },
  {
   "cell_type": "code",
   "execution_count": 5,
   "id": "5ec9a389",
   "metadata": {},
   "outputs": [
    {
     "data": {
      "text/plain": [
       "int"
      ]
     },
     "execution_count": 5,
     "metadata": {},
     "output_type": "execute_result"
    }
   ],
   "source": [
    "var4 = 1\n",
    "type(var4)"
   ]
  },
  {
   "cell_type": "code",
   "execution_count": 6,
   "id": "580a21d3",
   "metadata": {},
   "outputs": [
    {
     "name": "stdout",
     "output_type": "stream",
     "text": [
      "a= 50.0\n",
      "b= 1\n",
      "c= 14\n",
      "d= 16\n"
     ]
    }
   ],
   "source": [
    "#Q3. Explain the use of the following operators using an example:\n",
    "#(i) /:-  This opereator is basically use for division, division betweeen two number. Example:-  100/2\n",
    "#(ii) %:- This opereator is used to get the remindr of two divered number Example:- 100/3\n",
    "#(iii) //:- This Operator is used to divide the two number but this will result whole number or integer, which is less than or equal to the normal division result\n",
    "# example:- 100//7\n",
    "#(iv) **:- This operator is basically used to get the power if a number. Example:- 2**4\n",
    "\n",
    "a=100/2\n",
    "print ('a=',a)\n",
    "b=100%3\n",
    "print ('b=',b)\n",
    "c=100//7\n",
    "print('c=',c)\n",
    "d=2**4\n",
    "print('d=',d)"
   ]
  },
  {
   "cell_type": "code",
   "execution_count": 7,
   "id": "7674b755",
   "metadata": {},
   "outputs": [
    {
     "name": "stdout",
     "output_type": "stream",
     "text": [
      "1 Type of element <class 'int'>\n",
      "34 Type of element <class 'int'>\n",
      "78.5 Type of element <class 'float'>\n",
      "kundan Type of element <class 'str'>\n",
      "('kks', 56, 0.5) Type of element <class 'tuple'>\n",
      "(2+4j) Type of element <class 'complex'>\n",
      "[2, 3, 4, 5] Type of element <class 'list'>\n",
      "kudan345 Type of element <class 'str'>\n",
      "0.34 Type of element <class 'float'>\n",
      "-123 Type of element <class 'int'>\n"
     ]
    }
   ],
   "source": [
    "#Q4. Create a list of length 10 of your choice containing multiple types of data. Using for loop print the\n",
    "#element and its data type.\n",
    "\n",
    "j=[1,34,78.5, 'kundan', ('kks', 56, 0.5), 2+4j, [2,3,4,5], 'kudan345', 0.34, -123]\n",
    "for i in j:\n",
    "    print(i, 'Type of element', type(i))"
   ]
  },
  {
   "cell_type": "code",
   "execution_count": null,
   "id": "a476dfe0",
   "metadata": {},
   "outputs": [],
   "source": [
    "\n"
   ]
  },
  {
   "cell_type": "code",
   "execution_count": 8,
   "id": "1ebe344b",
   "metadata": {},
   "outputs": [
    {
     "name": "stdout",
     "output_type": "stream",
     "text": [
      "345 is divisible by 3\n",
      "678 is divisible by 3\n",
      "453 is divisible by 3\n",
      "699 is divisible by 3\n",
      "3 is divisible by 3\n",
      "15 is divisible by 3\n",
      "21 is divisible by 3\n",
      "900 is divisible by 3\n",
      "18 is divisible by 3\n",
      "300 is divisible by 3\n",
      "45 is divisible by 3\n",
      "27 is divisible by 3\n",
      "66543 is divisible by 3\n",
      "9876 is divisible by 3\n"
     ]
    }
   ],
   "source": [
    "#Q6. Create a list containing 25 int type data. Using for loop and if-else condition print if the element is\n",
    "#divisible by 3 or not.\n",
    "k= [345, 678, 453, 699, 1, 2, 3, 4, 5, 15, 21, 68, 95, 34, 900, 487, 18, 300, 45, 27, 66543, 9876, 3689, 3878, 8753]\n",
    "for i in k:\n",
    "    if i%3==0:\n",
    "        print(i,'is divisible by 3')\n",
    "        "
   ]
  },
  {
   "cell_type": "code",
   "execution_count": 9,
   "id": "a73fdc1f",
   "metadata": {},
   "outputs": [
    {
     "data": {
      "text/plain": [
       "[5, 7, 9, 78]"
      ]
     },
     "execution_count": 9,
     "metadata": {},
     "output_type": "execute_result"
    }
   ],
   "source": [
    "#What do you understand about mutable and immutable data types? Give examples for both showing\n",
    "#this property.\n",
    "# Mutable:- Mutable is when something is changeable or has the ability to change. In Python, ‘mutable’ is the ability of objects to change their values. \n",
    "# Immutable:- Immutable is the when no change is possible over time. In Python, if the value of an object cannot be changed over time, then it is known as immutable.\n",
    "\n",
    "p= [5, 7, 9, 4]\n",
    "p[3]= 78\n",
    "p\n"
   ]
  },
  {
   "cell_type": "code",
   "execution_count": 10,
   "id": "6d85f48b",
   "metadata": {},
   "outputs": [
    {
     "ename": "TypeError",
     "evalue": "'tuple' object does not support item assignment",
     "output_type": "error",
     "traceback": [
      "\u001b[1;31m---------------------------------------------------------------------------\u001b[0m",
      "\u001b[1;31mTypeError\u001b[0m                                 Traceback (most recent call last)",
      "Cell \u001b[1;32mIn[10], line 2\u001b[0m\n\u001b[0;32m      1\u001b[0m q\u001b[38;5;241m=\u001b[39m(\u001b[38;5;241m6\u001b[39m,\u001b[38;5;241m8\u001b[39m,\u001b[38;5;241m3\u001b[39m,\u001b[38;5;241m2\u001b[39m)\n\u001b[1;32m----> 2\u001b[0m q[\u001b[38;5;241m0\u001b[39m]\u001b[38;5;241m=\u001b[39m\u001b[38;5;241m45\u001b[39m\n",
      "\u001b[1;31mTypeError\u001b[0m: 'tuple' object does not support item assignment"
     ]
    }
   ],
   "source": [
    "q=(6,8,3,2)\n",
    "q[0]=45"
   ]
  },
  {
   "cell_type": "code",
   "execution_count": 15,
   "id": "9484c1a2",
   "metadata": {},
   "outputs": [
    {
     "ename": "SyntaxError",
     "evalue": "invalid syntax (4231060315.py, line 9)",
     "output_type": "error",
     "traceback": [
      "\u001b[1;36m  Cell \u001b[1;32mIn[15], line 9\u001b[1;36m\u001b[0m\n\u001b[1;33m    for i<b:\u001b[0m\n\u001b[1;37m         ^\u001b[0m\n\u001b[1;31mSyntaxError\u001b[0m\u001b[1;31m:\u001b[0m invalid syntax\n"
     ]
    }
   ],
   "source": [
    "#Q5. Using a while loop, verify if the number A is purely divisible by number B and if so then how many\n",
    "#times it can be divisible.\n",
    "\n",
    "a=int(input('enter the value of a'))\n",
    "b=int(input('enter the value of b'))\n",
    "i=0\n",
    "if a%b==0:\n",
    "    print('number is divisible')\n",
    "    while i<b:\n",
    "        if a%i==0:\n",
    "            print(i)\n",
    "            i=i+1"
   ]
  },
  {
   "cell_type": "code",
   "execution_count": null,
   "id": "138b7539",
   "metadata": {},
   "outputs": [],
   "source": []
  },
  {
   "cell_type": "code",
   "execution_count": null,
   "id": "b5a3778a",
   "metadata": {},
   "outputs": [],
   "source": []
  }
 ],
 "metadata": {
  "kernelspec": {
   "display_name": "Python 3 (ipykernel)",
   "language": "python",
   "name": "python3"
  },
  "language_info": {
   "codemirror_mode": {
    "name": "ipython",
    "version": 3
   },
   "file_extension": ".py",
   "mimetype": "text/x-python",
   "name": "python",
   "nbconvert_exporter": "python",
   "pygments_lexer": "ipython3",
   "version": "3.11.5"
  }
 },
 "nbformat": 4,
 "nbformat_minor": 5
}
